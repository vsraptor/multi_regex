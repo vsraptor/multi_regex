{
 "cells": [
  {
   "cell_type": "markdown",
   "metadata": {},
   "source": [
    "### Searching sequences using RegEx language"
   ]
  },
  {
   "cell_type": "code",
   "execution_count": 1,
   "metadata": {},
   "outputs": [
    {
     "name": "stdout",
     "output_type": "stream",
     "text": [
      "/my/dev/github/multi_regex/lib\n"
     ]
    }
   ],
   "source": [
    "%cd ../lib"
   ]
  },
  {
   "cell_type": "code",
   "execution_count": 2,
   "metadata": {},
   "outputs": [
    {
     "data": {
      "text/plain": [
       "'/my/dev/github/multi_regex/lib'"
      ]
     },
     "execution_count": 2,
     "metadata": {},
     "output_type": "execute_result"
    }
   ],
   "source": [
    "%pwd"
   ]
  },
  {
   "cell_type": "code",
   "execution_count": 3,
   "metadata": {},
   "outputs": [],
   "source": [
    "import sys\n",
    "sys.path.extend([\"../lib\"])\n",
    "from regex_nfa import *"
   ]
  },
  {
   "cell_type": "markdown",
   "metadata": {},
   "source": [
    "### Multi Sequence REGEX engine\n",
    "\n",
    "I have a project where I'm storing **Sequences** in a graph database which for the outside apps are opaque.\n",
    "So I needed to some way to query the data. I tried a sort of template-search-language, but it quickly became clear it is unmanageable.\n",
    "After some experimenting I decided to adopt Regex-like language for searching.\n",
    "\n",
    "I found a very nice tutorial for implementing RegEx using finite automata (NFA).\n",
    "\n",
    "[Implementing a Regular Expression Engine](https://deniskyashif.com/2019/02/17/implementing-a-regular-expression-engine/)\n",
    "\n",
    "Of course this implementation is very basic and is written in java-script, I need one written in python.\n",
    "But second and more important problem is that this engine matches a single string against the regex.\n",
    "\n",
    "What I require is the ability to apply regex against thousands or may be millions of sequences at once.\n",
    "I meant SEQUENCE not just a STRINGS /which is just sequence of characters/. \n",
    "I also need a support for Sequences where the items can be integers, characters, words, sentences ... etc.\n",
    "\n",
    "The major difference between basic regex matching (BRM) and this more advanced multi-sequence-regex (MSRM) is that in BRM we advance one step (all parallel states) and one character (single sequence) at a time which is much more simple to implement.\n",
    "\n",
    "In MSRM the advance is still one-step for the regex, but for every parallel-state there are multiple sequences that can match.\n",
    "\n",
    "For example lets see if we search the words file in linux :\n",
    "\n",
    "       > grep ^w /usr/share/dict/words | wc -l\n",
    "       2329\n",
    "       > grep ^wh /usr/share/dict/words | wc -l\n",
    "       360\n",
    "\n",
    "if we match against the following regex **/wh.+/**, the first step will return 2329 sequences/words (which is alot, for BRM it will be just one), the second step we get back 360.\n",
    " \n",
    "The expectation is that incremental search will be faster than a loop that match every sequence one by one.\n",
    "\n",
    "BTW there is option to set upper **limit** on how many items to select at every step, so if you get too many results you can cap them up.\n",
    "\n",
    "There is one more option which allows you to start matching after a specific prefix/head, the idea here is to match the **head** as a normal match and the rest of the sequence using the regex. This way we lower the the number of comparisons dramatically, because the biggest number of results are normally at the beginning.  \n",
    "\n",
    "\n"
   ]
  },
  {
   "cell_type": "markdown",
   "metadata": {},
   "source": [
    "### Features\n",
    "\n",
    "The tutorial mentioned above provides implementation only for basic operations i.e. **concatenation, closure:*, union:|** \n",
    "\n",
    "But to have usable RegEx engine we need at least :  **.,?,+,{n,m} and [abc]**\n",
    "\n",
    "### Implementation\n",
    "\n",
    "Before I code the main engine I would need a functionality to convert the regex from infix to postfix which is required input by the Thomphson NFA algorithm described above. I use modified version of the following code :\n",
    "\n",
    "[infix to postfix](https://github.com/TheAlgorithms/Python/blob/9316e7c0147a84b9b549094a5b8c70f95a0cd3a1/data_structures/stacks/infix_to_postfix_conversion.py)\n",
    "\n",
    "Once in postfix format I parse the expression to NFA which is then used to guide the matching process.\n",
    "\n",
    "Here is the process :\n",
    "\n",
    "  1. Input: Regex string\n",
    "  2. Insert concatenation operator where needed and return the result as a List (we are matching sequences not just strings) : **insert_concat()**\n",
    "  3. Convert Infix expression to Postfix : **infix2postfix()**\n",
    "  4. Convert Postfix expression to NFA structure : **to_nfa()**\n",
    "  5. Walk over the NFA states guided by the matched sequence : **match_one()**\n",
    "\n",
    "Here are the new operations that I implemented in addition to the basic ones.\n",
    "\n",
    "#### **Zero or One : ?**\n",
    "\n",
    "![?](zero-one.png)\n",
    "\n",
    "If you read the tutorial above you would know a state can be either **intermediate** or **end state** and the transitions can be **Symbol** or **Epsilon**.\n",
    "\n",
    "So to implement Zero or One item match, we need two end-states with Symbol transition.\n",
    "This way if we can exit trough the first state we cover the zero match case OR we can match one Symbol and exit, which covers the second case.\n",
    "\n",
    "#### **One or More : +**\n",
    "\n",
    "![?](one-more.png)\n",
    "\n",
    "Here we need the first node to be *non-end-node*, so that we get at least one match.\n",
    "\n",
    "My implementation uses Symbol match followed by closure(*) operator which is similar to the above diagram but more general.\n",
    "\n",
    "#### **From n to m occurrences : {n,m}**\n",
    "\n",
    "![?](n2m.png)\n",
    "\n",
    "\n",
    "For this operator and character-class I had to modify infix to postfix conversation to treat '{n,m}' and '[abc]' sub-strings in the regex as atom instead of a list of characters. Once this is handled the postfix to nfa conversation have access to the whole operator parameters and can build the correct sub-graph.\n",
    "\n",
    "This implementation relies on the Union operator f.e. \n",
    "\n",
    "    a{1,3}  is implemented as a|aa|aaa\n",
    "    a{2,4} is implemented as  aa|aaa|aaaa\n",
    "    \n",
    "so what we see from this example {1,3} is that we need 1 non-end state followed by 2 end states.\n",
    "And for {2,4} we need 2 non-end states followed by 3 end states.\n",
    "\n",
    "In other words {n,m} case have to have **N-non-end** states followed by **(M+1-N) end-states**.\n",
    "\n",
    "\n",
    "#### **Character class : [abc]**\n",
    "\n",
    "![?](char-class.png)\n",
    "\n",
    "For character class again we use a Union. F.e.\n",
    "\n",
    "     [abc] is implemented as a|b|c\n",
    "     \n",
    "The diagram this time is parallel i.e. either of the Symbol transitions will be a match.\n",
    "My implementation differs abit, because I need just one final node not three, so ..... \n",
    "\n",
    "I changed the 3 Symbols to **non-END-nodes**.\n",
    "Connected to all three Symbol nodes is one additional END-node using Epsilon-transitions.\n",
    "This way I keep the functionality described above and have one start and one end node, which is required to interconnect nfa-states.\n",
    "\n",
    "#### **Match any item : .**\n",
    "\n",
    "One thing the basic regex misses is a way to \"match any character\" i.e. the **dot operator**.\n",
    "It is not implemented as separate operator but as condition in the nodes walk algorithm.\n",
    "\n",
    "    `if not state.hasT or (symbol not in state.T and state.sym != ANY ) : continue`\n",
    "\n",
    "\n",
    "Now that I explained some details in the implementation lets see how they work in practice.\n",
    "\n",
    "There are two methods you can use, the first one is **match_one()** which implement the original basic algorithm with the extensions I discussed by providing functionality to match single sequence.\n",
    "The second one simply called **match()** does the multi-sequence matching.\n",
    "\n",
    "Lets try some examples :\n",
    "\n"
   ]
  },
  {
   "cell_type": "code",
   "execution_count": 4,
   "metadata": {},
   "outputs": [],
   "source": [
    "n = Regex()"
   ]
  },
  {
   "cell_type": "code",
   "execution_count": 5,
   "metadata": {},
   "outputs": [
    {
     "data": {
      "text/plain": [
       "True"
      ]
     },
     "execution_count": 5,
     "metadata": {},
     "output_type": "execute_result"
    }
   ],
   "source": [
    "n.match_one('abc', 'abc')"
   ]
  },
  {
   "cell_type": "code",
   "execution_count": 6,
   "metadata": {},
   "outputs": [
    {
     "data": {
      "text/plain": [
       "False"
      ]
     },
     "execution_count": 6,
     "metadata": {},
     "output_type": "execute_result"
    }
   ],
   "source": [
    "n.match_one('abc', 'abcd')"
   ]
  },
  {
   "cell_type": "code",
   "execution_count": 7,
   "metadata": {},
   "outputs": [
    {
     "data": {
      "text/plain": [
       "True"
      ]
     },
     "execution_count": 7,
     "metadata": {},
     "output_type": "execute_result"
    }
   ],
   "source": [
    "n.match_one('a+', 'aaaa')"
   ]
  },
  {
   "cell_type": "code",
   "execution_count": 8,
   "metadata": {},
   "outputs": [
    {
     "data": {
      "text/plain": [
       "True"
      ]
     },
     "execution_count": 8,
     "metadata": {},
     "output_type": "execute_result"
    }
   ],
   "source": [
    "n.match_one('(a|b)+', 'abab')"
   ]
  },
  {
   "cell_type": "code",
   "execution_count": 9,
   "metadata": {},
   "outputs": [
    {
     "data": {
      "text/plain": [
       "True"
      ]
     },
     "execution_count": 9,
     "metadata": {},
     "output_type": "execute_result"
    }
   ],
   "source": [
    "n.match_one('a{1,3}', 'aa')"
   ]
  },
  {
   "cell_type": "code",
   "execution_count": 10,
   "metadata": {},
   "outputs": [
    {
     "data": {
      "text/plain": [
       "True"
      ]
     },
     "execution_count": 10,
     "metadata": {},
     "output_type": "execute_result"
    }
   ],
   "source": [
    "n.match_one('[abc]+', 'ababac')"
   ]
  },
  {
   "cell_type": "markdown",
   "metadata": {},
   "source": [
    "Now lets try sequences :"
   ]
  },
  {
   "cell_type": "code",
   "execution_count": 11,
   "metadata": {},
   "outputs": [
    {
     "data": {
      "text/plain": [
       "True"
      ]
     },
     "execution_count": 11,
     "metadata": {},
     "output_type": "execute_result"
    }
   ],
   "source": [
    "n.match_one([1,2],[1,2])"
   ]
  },
  {
   "cell_type": "code",
   "execution_count": 12,
   "metadata": {},
   "outputs": [
    {
     "data": {
      "text/plain": [
       "True"
      ]
     },
     "execution_count": 12,
     "metadata": {},
     "output_type": "execute_result"
    }
   ],
   "source": [
    "n.match_one([1,'+'],[1,1,1,1])"
   ]
  },
  {
   "cell_type": "markdown",
   "metadata": {},
   "source": [
    "There is also a shortcut format for sequences ... instead of quoting every item, just create a list with single item that is a string ... here is the normal way :"
   ]
  },
  {
   "cell_type": "code",
   "execution_count": 13,
   "metadata": {},
   "outputs": [
    {
     "data": {
      "text/plain": [
       "True"
      ]
     },
     "execution_count": 13,
     "metadata": {},
     "output_type": "execute_result"
    }
   ],
   "source": [
    "n.match_one([1,'|',2,'|',3],[2])"
   ]
  },
  {
   "cell_type": "markdown",
   "metadata": {},
   "source": [
    "... and here is the shortcut way :"
   ]
  },
  {
   "cell_type": "code",
   "execution_count": 14,
   "metadata": {},
   "outputs": [
    {
     "data": {
      "text/plain": [
       "True"
      ]
     },
     "execution_count": 14,
     "metadata": {},
     "output_type": "execute_result"
    }
   ],
   "source": [
    "n.match_one(['1,|,2,|,3'],[2])"
   ]
  },
  {
   "cell_type": "code",
   "execution_count": 15,
   "metadata": {},
   "outputs": [
    {
     "data": {
      "text/plain": [
       "True"
      ]
     },
     "execution_count": 15,
     "metadata": {},
     "output_type": "execute_result"
    }
   ],
   "source": [
    "n.match_one(['(,1,|,2,|,3,),+'],[1,1,2,2,3,3])"
   ]
  },
  {
   "cell_type": "code",
   "execution_count": 16,
   "metadata": {},
   "outputs": [
    {
     "data": {
      "text/plain": [
       "True"
      ]
     },
     "execution_count": 16,
     "metadata": {},
     "output_type": "execute_result"
    }
   ],
   "source": [
    "n.match_one(['(,1,|,2,|,3,),+'],[1,2,3,1,2,3])"
   ]
  },
  {
   "cell_type": "markdown",
   "metadata": {},
   "source": [
    "or we can match words ..."
   ]
  },
  {
   "cell_type": "code",
   "execution_count": 17,
   "metadata": {},
   "outputs": [
    {
     "data": {
      "text/plain": [
       "True"
      ]
     },
     "execution_count": 17,
     "metadata": {},
     "output_type": "execute_result"
    }
   ],
   "source": [
    "n.match_one(['hi','+'],['hi','hi','hi'])"
   ]
  },
  {
   "cell_type": "code",
   "execution_count": 18,
   "metadata": {},
   "outputs": [
    {
     "data": {
      "text/plain": [
       "True"
      ]
     },
     "execution_count": 18,
     "metadata": {},
     "output_type": "execute_result"
    }
   ],
   "source": [
    "n.match_one(['hi','?'],['hi'])"
   ]
  },
  {
   "cell_type": "markdown",
   "metadata": {},
   "source": [
    "#### **Multi-match**\n",
    "\n",
    "The multi match algorithm is similar to the basic one. The difference is in the last step :\n",
    "\n",
    "  1. Input: Regex string\n",
    "  2. Insert concatenation operator where needed and return the result as a List (we are matching sequences not just strings) : **insert_concat()**\n",
    "  3. Convert Infix expression to Postfix : **infix2postfix()**\n",
    "  4. Convert Postfix expression to NFA structure : **to_nfa()**\n",
    "  5. Walk over the NFA states guided by function, which given a prefix returns a list of sequences of the format  **prefix+next_item** : **match()**\n",
    "     - it is a three-step-loop of walking over regex-states, matching-sequences and filtering\n",
    "\n",
    "\n",
    "First we need a sequence data source and function that provides prediction given prefix.\n",
    "The data store that imitate a database in our case will be simple lists."
   ]
  },
  {
   "cell_type": "code",
   "execution_count": 19,
   "metadata": {},
   "outputs": [],
   "source": [
    "from seqs_store import *"
   ]
  },
  {
   "cell_type": "code",
   "execution_count": 20,
   "metadata": {},
   "outputs": [
    {
     "data": {
      "text/plain": [
       "['who', 'why', 'when', 'where', 'whom', 'which', 'what', 'word', 'while', 'whole', 'whammy', 'with', 'woman', 'work', 'abc']"
      ]
     },
     "execution_count": 20,
     "metadata": {},
     "output_type": "execute_result"
    }
   ],
   "source": [
    "words"
   ]
  },
  {
   "cell_type": "code",
   "execution_count": 21,
   "metadata": {},
   "outputs": [
    {
     "data": {
      "text/plain": [
       "[[1, 2, 3], [1, 2, 3, 4], [1, 3, 4], [1, 2, 5, 6], [1, 2, 5, 7], [1, 2, 3, 4, 5], [1, 1, 3, 4]]"
      ]
     },
     "execution_count": 21,
     "metadata": {},
     "output_type": "execute_result"
    }
   ],
   "source": [
    "seqs"
   ]
  },
  {
   "cell_type": "code",
   "execution_count": 22,
   "metadata": {},
   "outputs": [
    {
     "data": {
      "text/plain": [
       "[['hi', 'world'], ['hello', 'world'], ['howdy', 'world'], ['hi', 'buddy'], ['hey', 'ho'], ['hi', 'hi']]"
      ]
     },
     "execution_count": 22,
     "metadata": {},
     "output_type": "execute_result"
    }
   ],
   "source": [
    "sents"
   ]
  },
  {
   "cell_type": "markdown",
   "metadata": {},
   "source": [
    "To search we provide a prefix and the db-list. So when the prefix is 'w' we expect to get first two characters of every string that starts with 'w' ... in the regex matching we use this function to walk step by step trough the matching sequences."
   ]
  },
  {
   "cell_type": "code",
   "execution_count": 23,
   "metadata": {},
   "outputs": [
    {
     "data": {
      "text/plain": [
       "['wh', 'wo', 'wi']"
      ]
     },
     "execution_count": 23,
     "metadata": {},
     "output_type": "execute_result"
    }
   ],
   "source": [
    "db_search(prefix='w', seqs=words)"
   ]
  },
  {
   "cell_type": "code",
   "execution_count": 24,
   "metadata": {},
   "outputs": [
    {
     "data": {
      "text/plain": [
       "['whe', 'why', 'wha', 'whi', 'who']"
      ]
     },
     "execution_count": 24,
     "metadata": {},
     "output_type": "execute_result"
    }
   ],
   "source": [
    "db_search(prefix='wh', seqs=words)"
   ]
  },
  {
   "cell_type": "code",
   "execution_count": 25,
   "metadata": {},
   "outputs": [
    {
     "data": {
      "text/plain": [
       "['why.']"
      ]
     },
     "execution_count": 25,
     "metadata": {},
     "output_type": "execute_result"
    }
   ],
   "source": [
    "db_search(prefix='why', seqs=words)"
   ]
  },
  {
   "cell_type": "code",
   "execution_count": 26,
   "metadata": {},
   "outputs": [
    {
     "data": {
      "text/plain": [
       "['when', 'wher']"
      ]
     },
     "execution_count": 26,
     "metadata": {},
     "output_type": "execute_result"
    }
   ],
   "source": [
    "db_search(prefix='whe', seqs=words)"
   ]
  },
  {
   "cell_type": "markdown",
   "metadata": {},
   "source": [
    "We can also do the same with sequences repsented with lists."
   ]
  },
  {
   "cell_type": "code",
   "execution_count": 27,
   "metadata": {},
   "outputs": [
    {
     "data": {
      "text/plain": [
       "[[1, 3], [1, 1], [1, 2]]"
      ]
     },
     "execution_count": 27,
     "metadata": {},
     "output_type": "execute_result"
    }
   ],
   "source": [
    "db_search(prefix=[1], seqs=seqs)"
   ]
  },
  {
   "cell_type": "code",
   "execution_count": 28,
   "metadata": {},
   "outputs": [
    {
     "data": {
      "text/plain": [
       "[[1, 2, 3], [1, 2, 5]]"
      ]
     },
     "execution_count": 28,
     "metadata": {},
     "output_type": "execute_result"
    }
   ],
   "source": [
    "db_search(prefix=[1,2], seqs=seqs)"
   ]
  },
  {
   "cell_type": "markdown",
   "metadata": {},
   "source": [
    "... or search sentences"
   ]
  },
  {
   "cell_type": "code",
   "execution_count": 29,
   "metadata": {},
   "outputs": [
    {
     "data": {
      "text/plain": [
       "[['hi', 'hi'], ['hi', 'buddy'], ['hi', 'world']]"
      ]
     },
     "execution_count": 29,
     "metadata": {},
     "output_type": "execute_result"
    }
   ],
   "source": [
    "db_search(prefix=['hi'], seqs=sents)"
   ]
  },
  {
   "cell_type": "markdown",
   "metadata": {},
   "source": [
    "So we will use this function to represent a DataBase which stores sequences ..\n",
    "\n",
    "Now we can call match() against this \"data store\" for this we provide regex and the function.\n",
    "\n",
    "We should use lambda or functools.partial() when passing the function, because the prefix is provided later by the match-process not directly here. \n",
    "\n",
    "It looks like this :"
   ]
  },
  {
   "cell_type": "code",
   "execution_count": 30,
   "metadata": {},
   "outputs": [
    {
     "data": {
      "text/plain": [
       "['why.', 'who.']"
      ]
     },
     "execution_count": 30,
     "metadata": {},
     "output_type": "execute_result"
    }
   ],
   "source": [
    "n.match(regex='w.+', match_prefix_fun=partial(db_search,seqs=words))"
   ]
  },
  {
   "cell_type": "markdown",
   "metadata": {},
   "source": [
    "... with the 'end' option we specify a symbol that marks the end of the sequence. We need this so that the engine can distinguish full sequences vs partial ones, as we are progressing with the search."
   ]
  },
  {
   "cell_type": "code",
   "execution_count": 31,
   "metadata": {},
   "outputs": [
    {
     "data": {
      "text/plain": [
       "['what$', 'whom$', 'when$']"
      ]
     },
     "execution_count": 31,
     "metadata": {},
     "output_type": "execute_result"
    }
   ],
   "source": [
    "n.match(regex='wh..', match_prefix_fun=partial(db_search,seqs=words), end='$')"
   ]
  },
  {
   "cell_type": "code",
   "execution_count": 32,
   "metadata": {},
   "outputs": [
    {
     "data": {
      "text/plain": [
       "[[1, 1, 3, 4, '.'], [1, 2, 3, 4, '.']]"
      ]
     },
     "execution_count": 32,
     "metadata": {},
     "output_type": "execute_result"
    }
   ],
   "source": [
    "n.match(regex=[1,'.',3,'.'], match_prefix_fun=partial(db_search,seqs=seqs))"
   ]
  },
  {
   "cell_type": "markdown",
   "metadata": {},
   "source": [
    "One drawback on the current implementation is the the match() is non-greedy i.e. it stops matching once it finds the first correct match.\n",
    "Greedy match may \"explode\" the search.\n",
    "\n",
    "To counter that .....\n",
    "\n",
    "I added two more options to limit the explosion of results as the program walks trough the regex.\n",
    "\n",
    "Using the \"limit\" option as the name implies limits the maximum number of matched items at every step.\n",
    "The drawback of this option is that it may cut some results you may expect from the final results. "
   ]
  },
  {
   "cell_type": "code",
   "execution_count": 33,
   "metadata": {},
   "outputs": [
    {
     "data": {
      "text/plain": [
       "['what.']"
      ]
     },
     "execution_count": 33,
     "metadata": {},
     "output_type": "execute_result"
    }
   ],
   "source": [
    "n.match(regex='wh..', match_prefix_fun=partial(db_search,seqs=words), limit=3)"
   ]
  },
  {
   "cell_type": "markdown",
   "metadata": {},
   "source": [
    "The other option is \"head\" which does straight (non-regex) match on the initial characters/items and the regex starts matching after that.\n",
    "This way you can skip result-exploision which is most probable in the beginning."
   ]
  },
  {
   "cell_type": "code",
   "execution_count": 34,
   "metadata": {},
   "outputs": [
    {
     "data": {
      "text/plain": [
       "['what.', 'whom.', 'when.']"
      ]
     },
     "execution_count": 34,
     "metadata": {},
     "output_type": "execute_result"
    }
   ],
   "source": [
    "n.match(regex='h..', match_prefix_fun=partial(db_search,seqs=words), head='w')"
   ]
  },
  {
   "cell_type": "markdown",
   "metadata": {},
   "source": [
    "## **WORDS example**\n",
    "\n",
    "Lets use the words file as example tests : "
   ]
  },
  {
   "cell_type": "code",
   "execution_count": 35,
   "metadata": {},
   "outputs": [],
   "source": [
    "with open('/usr/share/dict/words') as f : ww = [ l.rstrip() for l in f.readlines()]"
   ]
  },
  {
   "cell_type": "code",
   "execution_count": 36,
   "metadata": {},
   "outputs": [
    {
     "data": {
      "text/plain": [
       "['what.', 'whir.', 'whet.', 'whip.', 'when.', 'whey.', 'whim.', 'wham.', 'whoa.', 'whom.', 'whew.', 'whys.', 'whit.', 'whiz.']"
      ]
     },
     "execution_count": 36,
     "metadata": {},
     "output_type": "execute_result"
    }
   ],
   "source": [
    "n.match(regex='wh..', match_prefix_fun=partial(db_search,seqs=ww))"
   ]
  },
  {
   "cell_type": "code",
   "execution_count": 37,
   "metadata": {},
   "outputs": [
    {
     "data": {
      "text/plain": [
       "['why.', 'who.']"
      ]
     },
     "execution_count": 37,
     "metadata": {},
     "output_type": "execute_result"
    }
   ],
   "source": [
    "n.match(regex='wh.+', match_prefix_fun=partial(db_search,seqs=ww))"
   ]
  },
  {
   "cell_type": "code",
   "execution_count": 38,
   "metadata": {},
   "outputs": [
    {
     "data": {
      "text/plain": [
       "['wok.', 'won.', 'why.', 'woo.', 'who.', 'woe.', 'wot.', 'wow.']"
      ]
     },
     "execution_count": 38,
     "metadata": {},
     "output_type": "execute_result"
    }
   ],
   "source": [
    "n.match(regex='w(h|o).', match_prefix_fun=partial(db_search,seqs=ww))"
   ]
  },
  {
   "cell_type": "markdown",
   "metadata": {},
   "source": [
    "## TODO\n",
    "\n",
    "Currently regex like these are not supported, yet : \n",
    "\n",
    "      /(ab){1,3}/, /[abc]{1,3}/\n",
    "\n",
    "One easy addition will be to add support for real numbers. It will require a 'range-checker' that will match close numbers as equals.\n",
    "\n",
    "This idea can be enchanced with a similarity function passed as parameter."
   ]
  },
  {
   "cell_type": "code",
   "execution_count": null,
   "metadata": {},
   "outputs": [],
   "source": []
  }
 ],
 "metadata": {
  "kernelspec": {
   "display_name": "Python 3",
   "language": "python",
   "name": "python3"
  },
  "language_info": {
   "codemirror_mode": {
    "name": "ipython",
    "version": 3
   },
   "file_extension": ".py",
   "mimetype": "text/x-python",
   "name": "python",
   "nbconvert_exporter": "python",
   "pygments_lexer": "ipython3",
   "version": "3.6.8"
  }
 },
 "nbformat": 4,
 "nbformat_minor": 2
}
